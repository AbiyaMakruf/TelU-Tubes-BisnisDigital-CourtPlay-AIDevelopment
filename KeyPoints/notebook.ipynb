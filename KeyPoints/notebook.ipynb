{
 "cells": [
  {
   "cell_type": "markdown",
   "id": "11c5492e",
   "metadata": {},
   "source": [
    "# NEW SECTION"
   ]
  },
  {
   "cell_type": "code",
   "execution_count": null,
   "id": "736e330c",
   "metadata": {},
   "outputs": [],
   "source": [
    "import dagshub\n",
    "import datetime\n",
    "import mlflow\n",
    "import torch\n",
    "import time\n",
    "import os\n",
    "import pandas as pd\n",
    "from pathlib import Path\n",
    "from roboflow import Roboflow\n",
    "from ultralytics import YOLO, settings"
   ]
  },
  {
   "cell_type": "code",
   "execution_count": null,
   "id": "bebd1b37",
   "metadata": {},
   "outputs": [],
   "source": [
    "rf = Roboflow(api_key=\"aRTRw0ORiLGJdj7RF2gR\")\n",
    "project = rf.workspace(\"abiya-thesis\").project(\"tennis-court-suuzy\")\n",
    "version = project.version(8)\n",
    "dataset = version.download(\"yolov8\", location=\"datasets/keypoints-v2\")"
   ]
  },
  {
   "cell_type": "code",
   "execution_count": null,
   "id": "7609f5f0",
   "metadata": {},
   "outputs": [],
   "source": [
    "dagshub.init(repo_owner='abiyamf', repo_name='courtPlay', mlflow=True)\n",
    "settings.update({\"mlflow\": True})"
   ]
  },
  {
   "cell_type": "code",
   "execution_count": null,
   "id": "f16dcdb2",
   "metadata": {},
   "outputs": [],
   "source": [
    "# Global Config\n",
    "os.environ[\"MLFLOW_KEEP_RUN_ACTIVE\"] = \"True\"\n",
    "time_now = datetime.datetime.now().strftime(\"%m-%d_%H-%M\")\n",
    "gpu_name = torch.cuda.get_device_name(0)\n",
    "projectType = \"key-points\"\n",
    "datasetVersion = \"8\"\n",
    "yoloVersion = \"yolo11\"\n",
    "modelSize = \"l\"\n",
    "epochs = 1\n",
    "imgsz = 1280\n",
    "batch = 4\n",
    "data_path = \"datasets/keypoints-v2/data.yaml\"\n",
    "project_path = f\"results/key-points-v2/{yoloVersion}/{modelSize}\""
   ]
  },
  {
   "cell_type": "code",
   "execution_count": null,
   "id": "2cd7d8e2",
   "metadata": {},
   "outputs": [],
   "source": [
    "def format_duration(seconds: float) -> str:\n",
    "    \"\"\"Convert seconds into 'Hh Mm Ss' format.\"\"\"\n",
    "    hours = int(seconds // 3600)\n",
    "    minutes = int((seconds % 3600) // 60)\n",
    "    secs = int(seconds % 60)\n",
    "    return f\"{hours}h {minutes}m {secs}s\"\n",
    "\n",
    "def save_class_metrics(val_results):\n",
    "    # Ambil nama class\n",
    "    names = val_results.names\n",
    "\n",
    "    # Data per-class\n",
    "    data = {\n",
    "        \"class\": [names[i] for i in range(len(names))],\n",
    "        \"precision\": val_results.box.p.tolist(),\n",
    "        \"recall\": val_results.box.r.tolist(),\n",
    "        \"mAP50\": val_results.box.ap50.tolist(),\n",
    "        \"mAP50-95\": val_results.box.maps.tolist(),\n",
    "    }\n",
    "\n",
    "    # Tambahkan baris agregat \"all\"\n",
    "    all_row = {\n",
    "        \"class\": \"all\",\n",
    "        \"precision\": float(val_results.box.mp),\n",
    "        \"recall\": float(val_results.box.mr),\n",
    "        \"mAP50\": float(val_results.box.map50),\n",
    "        \"mAP50-95\": float(val_results.box.map),\n",
    "    }\n",
    "\n",
    "    for key in data.keys():\n",
    "        data[key].insert(0, all_row[key])\n",
    "\n",
    "    # Buat DataFrame dan simpan\n",
    "    df = pd.DataFrame(data)\n",
    "    csv_path = os.path.join(str(val_results.save_dir), \"class_metrics.csv\")\n",
    "    df.to_csv(csv_path, index=False)\n",
    "\n",
    "    return csv_path"
   ]
  },
  {
   "cell_type": "code",
   "execution_count": null,
   "id": "f8c1d23b",
   "metadata": {},
   "outputs": [],
   "source": [
    "# Load a model\n",
    "model = YOLO(f\"{yoloVersion}{modelSize}-pose.pt\")\n",
    "\n",
    "mlflow.set_experiment(f\"courtPlay-{modelSize}\")\n",
    "\n",
    "start_time = time.time()\n",
    "\n",
    "with mlflow.start_run(run_name=f\"{time_now}\"):\n",
    "    mlflow.log_params({\n",
    "        \"project type\": projectType,\n",
    "        \"dataset version\": datasetVersion,\n",
    "        \"yolo version\": yoloVersion,\n",
    "        \"model size\": modelSize,\n",
    "        \"gpu\": gpu_name,\n",
    "        \"epochs\": epochs,\n",
    "        \"batch\": batch,\n",
    "        \"imgsz\": imgsz,\n",
    "    })\n",
    "    \n",
    "    # Train the model\n",
    "    results = model.train(\n",
    "        data=data_path, \n",
    "        epochs=epochs, \n",
    "        imgsz=imgsz,\n",
    "        batch=batch,    \n",
    "        flipud=0.0,     # vertical flip\n",
    "        fliplr=0.0,     # horizontal flip\n",
    "        mosaic=0.0,     # mosaic augmentation\n",
    "        mixup=0.0,      # mixup augmentation\n",
    "        copy_paste=0.0,\n",
    "        project=project_path,\n",
    "        name=f\"train/{time_now}\",\n",
    "        exist_ok=True\n",
    "    )\n",
    "    \n",
    "    mlflow.log_params({\n",
    "        \"training time\": format_duration(time.time() - start_time),\n",
    "    })\n",
    "    \n",
    "    mlflow.log_artifact(save_class_metrics(results), artifact_path=\"class_metrics\")\n",
    "\n",
    "mlflow.end_run()"
   ]
  },
  {
   "cell_type": "markdown",
   "id": "186b73c6",
   "metadata": {},
   "source": [
    "## Inference Image"
   ]
  },
  {
   "cell_type": "code",
   "execution_count": null,
   "id": "afccfee0",
   "metadata": {},
   "outputs": [],
   "source": [
    "model = YOLO(f\"{project_path}/train/{time_now}/weights/best.pt\")\n",
    "list_of_images = [\"examples/images/\"+i for i in os.listdir(\"examples/images/\") if i.endswith(\".jpg\")]\n",
    "results = model(list_of_images, stream=True)\n",
    "os.makedirs(f\"{project_path}/predict/{time_now}/\", exist_ok=True)\n",
    "for result in results:\n",
    "    \n",
    "    result.save(filename=f\"{project_path}/predict/{time_now}/\"+result.path.split(\"/\")[-1])"
   ]
  },
  {
   "cell_type": "markdown",
   "id": "3e33bf79",
   "metadata": {},
   "source": [
    "## Inference Video"
   ]
  },
  {
   "cell_type": "code",
   "execution_count": null,
   "id": "b0a1b30c",
   "metadata": {},
   "outputs": [],
   "source": [
    "model = YOLO(f\"{project_path}/train/{time_now}/weights/best.pt\")\n",
    "list_of_videos = [\"examples/videos/\"+i for i in os.listdir(\"examples/videos/\") if i.endswith(\".mp4\")]\n",
    "\n",
    "# Make sure folder exists\n",
    "os.makedirs(f\"{project_path}/track/\", exist_ok=True)\n",
    "\n",
    "for video in list_of_videos:\n",
    "    results = model.track(video, save=True, tracker=\"bytetrack.yaml\", project=project_path, name=f\"track/{time_now}/\", exist_ok=True)"
   ]
  }
 ],
 "metadata": {
  "kernelspec": {
   "display_name": "ultralytics",
   "language": "python",
   "name": "python3"
  },
  "language_info": {
   "codemirror_mode": {
    "name": "ipython",
    "version": 3
   },
   "file_extension": ".py",
   "mimetype": "text/x-python",
   "name": "python",
   "nbconvert_exporter": "python",
   "pygments_lexer": "ipython3",
   "version": "3.11.13"
  }
 },
 "nbformat": 4,
 "nbformat_minor": 5
}
