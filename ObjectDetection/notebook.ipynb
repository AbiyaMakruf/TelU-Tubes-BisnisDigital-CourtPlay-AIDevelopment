{
 "cells": [
  {
   "cell_type": "code",
   "execution_count": null,
   "id": "cb024dd7",
   "metadata": {},
   "outputs": [],
   "source": [
    "%pip install -r requirements.txt"
   ]
  },
  {
   "cell_type": "code",
   "execution_count": 1,
   "id": "1f9ec5af",
   "metadata": {},
   "outputs": [],
   "source": [
    "import dagshub\n",
    "import datetime\n",
    "import mlflow\n",
    "import torch\n",
    "import time\n",
    "import os\n",
    "import shutil\n",
    "import random\n",
    "import yaml\n",
    "from pathlib import Path\n",
    "from roboflow import Roboflow\n",
    "from ultralytics import YOLO, settings"
   ]
  },
  {
   "cell_type": "code",
   "execution_count": null,
   "id": "c71f00c9",
   "metadata": {},
   "outputs": [],
   "source": [
    "rf = Roboflow(api_key=\"aRTRw0ORiLGJdj7RF2gR\")\n",
    "project = rf.workspace(\"abiya-thesis\").project(\"tennis-player-and-tennis-ball-ei0vm\")\n",
    "version = project.version(6)\n",
    "dataset = version.download(\"yolov12\", location=\"datasets/object-detection\")"
   ]
  },
  {
   "cell_type": "code",
   "execution_count": 2,
   "id": "1a91ed5f",
   "metadata": {},
   "outputs": [
    {
     "data": {
      "text/html": [
       "<pre style=\"white-space:pre;overflow-x:auto;line-height:normal;font-family:Menlo,'DejaVu Sans Mono',consolas,'Courier New',monospace\">Accessing as nugrohorahmanto24\n",
       "</pre>\n"
      ],
      "text/plain": [
       "Accessing as nugrohorahmanto24\n"
      ]
     },
     "metadata": {},
     "output_type": "display_data"
    },
    {
     "data": {
      "text/html": [
       "<pre style=\"white-space:pre;overflow-x:auto;line-height:normal;font-family:Menlo,'DejaVu Sans Mono',consolas,'Courier New',monospace\">Initialized MLflow to track repo <span style=\"color: #008000; text-decoration-color: #008000\">\"abiyamf/courtPlay\"</span>\n",
       "</pre>\n"
      ],
      "text/plain": [
       "Initialized MLflow to track repo \u001b[32m\"abiyamf/courtPlay\"\u001b[0m\n"
      ]
     },
     "metadata": {},
     "output_type": "display_data"
    },
    {
     "data": {
      "text/html": [
       "<pre style=\"white-space:pre;overflow-x:auto;line-height:normal;font-family:Menlo,'DejaVu Sans Mono',consolas,'Courier New',monospace\">Repository abiyamf/courtPlay initialized!\n",
       "</pre>\n"
      ],
      "text/plain": [
       "Repository abiyamf/courtPlay initialized!\n"
      ]
     },
     "metadata": {},
     "output_type": "display_data"
    }
   ],
   "source": [
    "dagshub.init(repo_owner='abiyamf', repo_name='courtPlay', mlflow=True)\n",
    "settings.update({\"mlflow\": True})"
   ]
  },
  {
   "cell_type": "code",
   "execution_count": 3,
   "id": "7416406e",
   "metadata": {},
   "outputs": [],
   "source": [
    "# Global Config\n",
    "os.environ[\"MLFLOW_KEEP_RUN_ACTIVE\"] = \"True\"\n",
    "time_now = datetime.datetime.now().strftime(\"%m-%d_%H-%M\")\n",
    "gpu_name = torch.cuda.get_device_name(0)\n",
    "projectType = \"object-detection\"\n",
    "datasetVersion = \"6\"\n",
    "yoloVersion = \"yolo12\"\n",
    "modelSize = \"m\"\n",
    "epochs = 50\n",
    "batch = -1\n",
    "imgsz = 720\n",
    "data_path = \"datasets/object-detection/data.yaml\"\n",
    "\n",
    "def format_duration(seconds: float) -> str:\n",
    "    \"\"\"Convert seconds into 'Hh Mm Ss' format.\"\"\"\n",
    "    hours = int(seconds // 3600)\n",
    "    minutes = int((seconds % 3600) // 60)\n",
    "    secs = int(seconds % 60)\n",
    "    return f\"{hours}h {minutes}m {secs}s\""
   ]
  },
  {
   "cell_type": "code",
   "execution_count": null,
   "id": "0946d6ad",
   "metadata": {},
   "outputs": [],
   "source": [
    "model = YOLO(f\"{yoloVersion}{modelSize}.pt\")\n",
    "\n",
    "mlflow.set_experiment(f\"courtPlay-{modelSize}\")\n",
    "\n",
    "start_time = time.time()\n",
    "\n",
    "with mlflow.start_run(run_name=f\"{time_now}\"):\n",
    "    mlflow.log_params({\n",
    "        \"project type\": projectType,\n",
    "        \"dataset version\": datasetVersion,\n",
    "        \"yolo version\": yoloVersion,\n",
    "        \"model size\": modelSize,\n",
    "        \"gpu\": gpu_name,\n",
    "        \"epochs\": epochs,\n",
    "        \"batch\": batch,\n",
    "        \"imgsz\": imgsz,\n",
    "    })\n",
    "\n",
    "    results = model.train(\n",
    "        data=data_path,\n",
    "        epochs=epochs,\n",
    "        imgsz=imgsz,\n",
    "        batch=batch,\n",
    "        name=f\"{time_now}\",\n",
    "        project=f\"results/object-detection/{modelSize}\",\n",
    "        exist_ok=True\n",
    "    )\n",
    "\n",
    "    mlflow.log_params({\n",
    "        \"training time\": format_duration(time.time() - start_time),\n",
    "    })\n",
    "\n",
    "    ## Tidak perlu karena sudah otomatis ter-log oleh ultralytics\n",
    "    # mlflow.log_artifacts(f\"results/object-detection/{modelSize}/{time_now}/weights/best.pt\", artifact_path=\"best_model\")\n",
    "\n",
    "mlflow.end_run()"
   ]
  }
 ],
 "metadata": {
  "kernelspec": {
   "display_name": "abiya_env",
   "language": "python",
   "name": "python3"
  },
  "language_info": {
   "codemirror_mode": {
    "name": "ipython",
    "version": 3
   },
   "file_extension": ".py",
   "mimetype": "text/x-python",
   "name": "python",
   "nbconvert_exporter": "python",
   "pygments_lexer": "ipython3",
   "version": "3.10.18"
  }
 },
 "nbformat": 4,
 "nbformat_minor": 5
}
