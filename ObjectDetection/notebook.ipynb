{
 "cells": [
  {
   "cell_type": "code",
   "execution_count": null,
   "id": "cb024dd7",
   "metadata": {},
   "outputs": [],
   "source": [
    "%pip install -r requirements.txt"
   ]
  },
  {
   "cell_type": "code",
   "execution_count": 35,
   "id": "1f9ec5af",
   "metadata": {},
   "outputs": [],
   "source": [
    "import dagshub\n",
    "import datetime\n",
    "import mlflow\n",
    "import torch\n",
    "import time\n",
    "import os\n",
    "import shutil\n",
    "import random\n",
    "import yaml\n",
    "import pandas as pd\n",
    "from pathlib import Path\n",
    "from roboflow import Roboflow\n",
    "from ultralytics import YOLO, settings"
   ]
  },
  {
   "cell_type": "code",
   "execution_count": null,
   "id": "c71f00c9",
   "metadata": {},
   "outputs": [],
   "source": [
    "rf = Roboflow(api_key=\"aRTRw0ORiLGJdj7RF2gR\")\n",
    "project = rf.workspace(\"abiya-thesis\").project(\"tennis-player-and-tennis-ball-ei0vm\")\n",
    "version = project.version(6)\n",
    "dataset = version.download(\"yolov12\", location=\"datasets/object-detection\")"
   ]
  },
  {
   "cell_type": "code",
   "execution_count": 2,
   "id": "584ffa20",
   "metadata": {},
   "outputs": [
    {
     "name": "stdout",
     "output_type": "stream",
     "text": [
      "loading Roboflow workspace...\n",
      "loading Roboflow project...\n"
     ]
    },
    {
     "name": "stderr",
     "output_type": "stream",
     "text": [
      "Downloading Dataset Version Zip in datasets/object-detection-tile to yolov12:: 100%|██████████| 503644/503644 [00:31<00:00, 15756.26it/s]"
     ]
    },
    {
     "name": "stdout",
     "output_type": "stream",
     "text": [
      "\n"
     ]
    },
    {
     "name": "stderr",
     "output_type": "stream",
     "text": [
      "\n",
      "Extracting Dataset Version Zip to datasets/object-detection-tile in yolov12:: 100%|██████████| 21068/21068 [00:07<00:00, 2822.45it/s]\n"
     ]
    }
   ],
   "source": [
    "rf = Roboflow(api_key=\"aRTRw0ORiLGJdj7RF2gR\")\n",
    "project = rf.workspace(\"abiya-thesis\").project(\"tennis-player-and-tennis-ball-ei0vm\")\n",
    "version = project.version(7)\n",
    "dataset = version.download(\"yolov12\",location=\"datasets/object-detection-tile\")"
   ]
  },
  {
   "cell_type": "code",
   "execution_count": 3,
   "id": "1a91ed5f",
   "metadata": {},
   "outputs": [
    {
     "data": {
      "text/html": [
       "<pre style=\"white-space:pre;overflow-x:auto;line-height:normal;font-family:Menlo,'DejaVu Sans Mono',consolas,'Courier New',monospace\">Accessing as nugrohorahmanto24\n",
       "</pre>\n"
      ],
      "text/plain": [
       "Accessing as nugrohorahmanto24\n"
      ]
     },
     "metadata": {},
     "output_type": "display_data"
    },
    {
     "data": {
      "text/html": [
       "<pre style=\"white-space:pre;overflow-x:auto;line-height:normal;font-family:Menlo,'DejaVu Sans Mono',consolas,'Courier New',monospace\">Initialized MLflow to track repo <span style=\"color: #008000; text-decoration-color: #008000\">\"abiyamf/courtPlay\"</span>\n",
       "</pre>\n"
      ],
      "text/plain": [
       "Initialized MLflow to track repo \u001b[32m\"abiyamf/courtPlay\"\u001b[0m\n"
      ]
     },
     "metadata": {},
     "output_type": "display_data"
    },
    {
     "data": {
      "text/html": [
       "<pre style=\"white-space:pre;overflow-x:auto;line-height:normal;font-family:Menlo,'DejaVu Sans Mono',consolas,'Courier New',monospace\">Repository abiyamf/courtPlay initialized!\n",
       "</pre>\n"
      ],
      "text/plain": [
       "Repository abiyamf/courtPlay initialized!\n"
      ]
     },
     "metadata": {},
     "output_type": "display_data"
    }
   ],
   "source": [
    "dagshub.init(repo_owner='abiyamf', repo_name='courtPlay', mlflow=True)\n",
    "settings.update({\"mlflow\": True})"
   ]
  },
  {
   "cell_type": "code",
   "execution_count": 59,
   "id": "f7ba0d97",
   "metadata": {},
   "outputs": [],
   "source": [
    "# ==========================\n",
    "# 🔧 Global Config\n",
    "# ==========================\n",
    "os.environ[\"MLFLOW_KEEP_RUN_ACTIVE\"] = \"True\"\n",
    "\n",
    "time_now = datetime.datetime.now().strftime(\"%m-%d_%H-%M\")\n",
    "gpu_name = torch.cuda.get_device_name(0)\n",
    "\n",
    "# Project Info\n",
    "projectType = \"object-detection\"\n",
    "datasetVersion = \"6\"\n",
    "yoloVersion = \"yolo11\"\n",
    "modelSize = \"n\"\n",
    "\n",
    "# Training Params\n",
    "epochs = 2\n",
    "batch = -1\n",
    "imgsz = 640\n",
    "data_path = \"datasets/object-detection/data.yaml\"\n",
    "project_path = f\"results/object-detection/{modelSize}\"\n",
    "\n",
    "# Toggle custom augmentation\n",
    "use_custom_aug = True"
   ]
  },
  {
   "cell_type": "code",
   "execution_count": 60,
   "id": "23a3ce90",
   "metadata": {},
   "outputs": [],
   "source": [
    "def format_duration(seconds: float) -> str:\n",
    "    \"\"\"Convert seconds into 'Hh Mm Ss' format.\"\"\"\n",
    "    hours = int(seconds // 3600)\n",
    "    minutes = int((seconds % 3600) // 60)\n",
    "    secs = int(seconds % 60)\n",
    "    return f\"{hours}h {minutes}m {secs}s\"\n",
    "\n",
    "def save_class_metrics(val_results):\n",
    "    # Ambil nama class\n",
    "    names = val_results.names\n",
    "\n",
    "    # Data per-class\n",
    "    data = {\n",
    "        \"class\": [names[i] for i in range(len(names))],\n",
    "        \"precision\": val_results.box.p.tolist(),\n",
    "        \"recall\": val_results.box.r.tolist(),\n",
    "        \"mAP50\": val_results.box.ap50.tolist(),\n",
    "        \"mAP50-95\": val_results.box.maps.tolist(),\n",
    "    }\n",
    "\n",
    "    # Tambahkan baris agregat \"all\"\n",
    "    all_row = {\n",
    "        \"class\": \"all\",\n",
    "        \"precision\": float(val_results.box.mp),\n",
    "        \"recall\": float(val_results.box.mr),\n",
    "        \"mAP50\": float(val_results.box.map50),\n",
    "        \"mAP50-95\": float(val_results.box.map),\n",
    "    }\n",
    "\n",
    "    for key in data.keys():\n",
    "        data[key].insert(0, all_row[key])\n",
    "\n",
    "    # Buat DataFrame dan simpan\n",
    "    df = pd.DataFrame(data)\n",
    "    csv_path = os.path.join(str(val_results.save_dir), \"class_metrics.csv\")\n",
    "    df.to_csv(csv_path, index=False)\n",
    "\n",
    "    return csv_path"
   ]
  },
  {
   "cell_type": "code",
   "execution_count": 61,
   "id": "b4bb69f2",
   "metadata": {},
   "outputs": [
    {
     "name": "stdout",
     "output_type": "stream",
     "text": [
      "New https://pypi.org/project/ultralytics/8.3.204 available  Update with 'pip install -U ultralytics'\n",
      "Ultralytics 8.3.179  Python-3.10.18 torch-2.8.0+cu129 CUDA:0 (NVIDIA GeForce RTX 3060, 12288MiB)\n",
      "\u001b[34m\u001b[1mengine\\trainer: \u001b[0magnostic_nms=False, amp=True, augment=False, auto_augment=randaugment, batch=-1, bgr=0.0, box=7.5, cache=False, cfg=None, classes=None, close_mosaic=10, cls=0.5, conf=None, copy_paste=0.0, copy_paste_mode=flip, cos_lr=False, cutmix=0.0, data=datasets/object-detection/data.yaml, degrees=0.0, deterministic=True, device=None, dfl=1.5, dnn=False, dropout=0.0, dynamic=False, embed=None, epochs=2, erasing=0.4, exist_ok=True, fliplr=0.5, flipud=0.0, format=torchscript, fraction=1.0, freeze=None, half=False, hsv_h=0.015, hsv_s=0.4, hsv_v=0.2, imgsz=640, int8=False, iou=0.7, keras=False, kobj=1.0, line_width=None, lr0=0.01, lrf=0.01, mask_ratio=4, max_det=300, mixup=0.1, mode=train, model=yolo11n.pt, momentum=0.937, mosaic=0.4, multi_scale=False, name=10-05_14-10, nbs=64, nms=False, opset=None, optimize=False, optimizer=auto, overlap_mask=True, patience=100, perspective=0.0, plots=True, pose=12.0, pretrained=True, profile=False, project=results/object-detection/n, rect=False, resume=False, retina_masks=False, save=True, save_conf=False, save_crop=False, save_dir=results\\object-detection\\n\\10-05_14-10, save_frames=False, save_json=False, save_period=-1, save_txt=False, scale=0.25, seed=0, shear=0.0, show=False, show_boxes=True, show_conf=True, show_labels=True, simplify=True, single_cls=False, source=None, split=val, stream_buffer=False, task=detect, time=None, tracker=botsort.yaml, translate=0.05, val=True, verbose=True, vid_stride=1, visualize=False, warmup_bias_lr=0.1, warmup_epochs=3.0, warmup_momentum=0.8, weight_decay=0.0005, workers=8, workspace=None\n",
      "Overriding model.yaml nc=80 with nc=2\n",
      "\n",
      "                   from  n    params  module                                       arguments                     \n",
      "  0                  -1  1       464  ultralytics.nn.modules.conv.Conv             [3, 16, 3, 2]                 \n",
      "  1                  -1  1      4672  ultralytics.nn.modules.conv.Conv             [16, 32, 3, 2]                \n",
      "  2                  -1  1      6640  ultralytics.nn.modules.block.C3k2            [32, 64, 1, False, 0.25]      \n",
      "  3                  -1  1     36992  ultralytics.nn.modules.conv.Conv             [64, 64, 3, 2]                \n",
      "  4                  -1  1     26080  ultralytics.nn.modules.block.C3k2            [64, 128, 1, False, 0.25]     \n",
      "  5                  -1  1    147712  ultralytics.nn.modules.conv.Conv             [128, 128, 3, 2]              \n",
      "  6                  -1  1     87040  ultralytics.nn.modules.block.C3k2            [128, 128, 1, True]           \n",
      "  7                  -1  1    295424  ultralytics.nn.modules.conv.Conv             [128, 256, 3, 2]              \n",
      "  8                  -1  1    346112  ultralytics.nn.modules.block.C3k2            [256, 256, 1, True]           \n",
      "  9                  -1  1    164608  ultralytics.nn.modules.block.SPPF            [256, 256, 5]                 \n",
      " 10                  -1  1    249728  ultralytics.nn.modules.block.C2PSA           [256, 256, 1]                 \n",
      " 11                  -1  1         0  torch.nn.modules.upsampling.Upsample         [None, 2, 'nearest']          \n",
      " 12             [-1, 6]  1         0  ultralytics.nn.modules.conv.Concat           [1]                           \n",
      " 13                  -1  1    111296  ultralytics.nn.modules.block.C3k2            [384, 128, 1, False]          \n",
      " 14                  -1  1         0  torch.nn.modules.upsampling.Upsample         [None, 2, 'nearest']          \n",
      " 15             [-1, 4]  1         0  ultralytics.nn.modules.conv.Concat           [1]                           \n",
      " 16                  -1  1     32096  ultralytics.nn.modules.block.C3k2            [256, 64, 1, False]           \n",
      " 17                  -1  1     36992  ultralytics.nn.modules.conv.Conv             [64, 64, 3, 2]                \n",
      " 18            [-1, 13]  1         0  ultralytics.nn.modules.conv.Concat           [1]                           \n",
      " 19                  -1  1     86720  ultralytics.nn.modules.block.C3k2            [192, 128, 1, False]          \n",
      " 20                  -1  1    147712  ultralytics.nn.modules.conv.Conv             [128, 128, 3, 2]              \n",
      " 21            [-1, 10]  1         0  ultralytics.nn.modules.conv.Concat           [1]                           \n",
      " 22                  -1  1    378880  ultralytics.nn.modules.block.C3k2            [384, 256, 1, True]           \n",
      " 23        [16, 19, 22]  1    431062  ultralytics.nn.modules.head.Detect           [2, [64, 128, 256]]           \n",
      "YOLO11n summary: 181 layers, 2,590,230 parameters, 2,590,214 gradients, 6.4 GFLOPs\n",
      "\n",
      "Transferred 448/499 items from pretrained weights\n",
      "Freezing layer 'model.23.dfl.conv.weight'\n",
      "\u001b[34m\u001b[1mAMP: \u001b[0mrunning Automatic Mixed Precision (AMP) checks...\n",
      "\u001b[34m\u001b[1mAMP: \u001b[0mchecks passed \n",
      "\u001b[34m\u001b[1mtrain: \u001b[0mFast image access  (ping: 0.00.0 ms, read: 1476.0444.6 MB/s, size: 187.0 KB)\n"
     ]
    },
    {
     "name": "stderr",
     "output_type": "stream",
     "text": [
      "\u001b[34m\u001b[1mtrain: \u001b[0mScanning C:\\Users\\User\\Documents\\ABIYA NITIP\\TelU-Tubes-BisnisDigital-CourtPlay-AIDevelopment\\ObjectDetection\\datasets\\object-detection\\train\\labels.cache... 3686 images, 2 backgrounds, 0 corrupt: 100%|██████████| 3686/3686 [00:00<?, ?it/s]"
     ]
    },
    {
     "name": "stdout",
     "output_type": "stream",
     "text": [
      "\u001b[34m\u001b[1mAutoBatch: \u001b[0mComputing optimal batch size for imgsz=640 at 60.0% CUDA memory utilization.\n",
      "\u001b[34m\u001b[1mAutoBatch: \u001b[0mCUDA:0 (NVIDIA GeForce RTX 3060) 12.00G total, 1.28G reserved, 0.54G allocated, 10.17G free\n",
      "      Params      GFLOPs  GPU_mem (GB)  forward (ms) backward (ms)                   input                  output\n"
     ]
    },
    {
     "name": "stderr",
     "output_type": "stream",
     "text": [
      "\n"
     ]
    },
    {
     "name": "stdout",
     "output_type": "stream",
     "text": [
      "     2590230       6.442         0.562         20.51          1804        (1, 3, 640, 640)                    list\n",
      "     2590230       12.88         0.703         21.01          1635        (2, 3, 640, 640)                    list\n",
      "     2590230       25.77         0.958            22          1391        (4, 3, 640, 640)                    list\n",
      "     2590230       51.53         1.617            29          1481        (8, 3, 640, 640)                    list\n",
      "     2590230       103.1         2.787         53.77          1481       (16, 3, 640, 640)                    list\n",
      "\u001b[34m\u001b[1mAutoBatch: \u001b[0mUsing batch-size 37 for CUDA:0 7.76G/12.00G (65%) \n",
      "\u001b[34m\u001b[1mtrain: \u001b[0mFast image access  (ping: 0.00.0 ms, read: 1186.0295.1 MB/s, size: 185.2 KB)\n"
     ]
    },
    {
     "name": "stderr",
     "output_type": "stream",
     "text": [
      "\u001b[34m\u001b[1mtrain: \u001b[0mScanning C:\\Users\\User\\Documents\\ABIYA NITIP\\TelU-Tubes-BisnisDigital-CourtPlay-AIDevelopment\\ObjectDetection\\datasets\\object-detection\\train\\labels.cache... 3686 images, 2 backgrounds, 0 corrupt: 100%|██████████| 3686/3686 [00:00<?, ?it/s]\n"
     ]
    },
    {
     "name": "stdout",
     "output_type": "stream",
     "text": [
      "\u001b[34m\u001b[1mval: \u001b[0mFast image access  (ping: 0.00.0 ms, read: 1048.3267.3 MB/s, size: 205.5 KB)\n"
     ]
    },
    {
     "name": "stderr",
     "output_type": "stream",
     "text": [
      "\u001b[34m\u001b[1mval: \u001b[0mScanning C:\\Users\\User\\Documents\\ABIYA NITIP\\TelU-Tubes-BisnisDigital-CourtPlay-AIDevelopment\\ObjectDetection\\datasets\\object-detection\\valid\\labels.cache... 527 images, 1 backgrounds, 0 corrupt: 100%|██████████| 527/527 [00:00<?, ?it/s]\n"
     ]
    },
    {
     "name": "stdout",
     "output_type": "stream",
     "text": [
      "Plotting labels to results\\object-detection\\n\\10-05_14-10\\labels.jpg... \n",
      "\u001b[34m\u001b[1moptimizer:\u001b[0m 'optimizer=auto' found, ignoring 'lr0=0.01' and 'momentum=0.937' and determining best 'optimizer', 'lr0' and 'momentum' automatically... \n",
      "\u001b[34m\u001b[1moptimizer:\u001b[0m AdamW(lr=0.001667, momentum=0.9) with parameter groups 81 weight(decay=0.0), 88 weight(decay=0.000578125), 87 bias(decay=0.0)\n"
     ]
    },
    {
     "name": "stderr",
     "output_type": "stream",
     "text": [
      "2025/10/05 14:11:55 INFO mlflow.tracking.fluent: Experiment with name 'results/object-detection/n' does not exist. Creating a new experiment.\n"
     ]
    },
    {
     "name": "stdout",
     "output_type": "stream",
     "text": [
      "\u001b[34m\u001b[1mMLflow: \u001b[0mlogging run_id(c4250b9759d34a9c942b0aefb2dc0991) to https://dagshub.com/abiyamf/courtPlay.mlflow\n",
      "\u001b[34m\u001b[1mMLflow: \u001b[0mdisable with 'yolo settings mlflow=False'\n",
      "WARNING \u001b[34m\u001b[1mMLflow: \u001b[0mFailed to initialize: INVALID_PARAMETER_VALUE: Response: {'error_code': 'INVALID_PARAMETER_VALUE'}\n",
      "WARNING \u001b[34m\u001b[1mMLflow: \u001b[0mNot tracking this run\n",
      "Image sizes 640 train, 640 val\n",
      "Using 8 dataloader workers\n",
      "Logging results to \u001b[1mresults\\object-detection\\n\\10-05_14-10\u001b[0m\n",
      "Starting training for 2 epochs...\n",
      "\n",
      "      Epoch    GPU_mem   box_loss   cls_loss   dfl_loss  Instances       Size\n"
     ]
    },
    {
     "name": "stderr",
     "output_type": "stream",
     "text": [
      "        1/2      4.91G      1.179      1.519     0.9585        139        640: 100%|██████████| 100/100 [00:34<00:00,  2.86it/s]\n",
      "                 Class     Images  Instances      Box(P          R      mAP50  mAP50-95): 100%|██████████| 8/8 [00:03<00:00,  2.34it/s]"
     ]
    },
    {
     "name": "stdout",
     "output_type": "stream",
     "text": [
      "                   all        527       1962      0.996      0.388      0.577      0.356\n"
     ]
    },
    {
     "name": "stderr",
     "output_type": "stream",
     "text": [
      "\n"
     ]
    },
    {
     "name": "stdout",
     "output_type": "stream",
     "text": [
      "\n",
      "      Epoch    GPU_mem   box_loss   cls_loss   dfl_loss  Instances       Size\n"
     ]
    },
    {
     "name": "stderr",
     "output_type": "stream",
     "text": [
      "        2/2      5.03G      1.076     0.8113     0.9269        117        640: 100%|██████████| 100/100 [00:30<00:00,  3.27it/s]\n",
      "                 Class     Images  Instances      Box(P          R      mAP50  mAP50-95): 100%|██████████| 8/8 [00:02<00:00,  3.66it/s]"
     ]
    },
    {
     "name": "stdout",
     "output_type": "stream",
     "text": [
      "                   all        527       1962      0.767      0.665      0.665      0.397\n"
     ]
    },
    {
     "name": "stderr",
     "output_type": "stream",
     "text": [
      "\n"
     ]
    },
    {
     "name": "stdout",
     "output_type": "stream",
     "text": [
      "\n",
      "2 epochs completed in 0.021 hours.\n",
      "Optimizer stripped from results\\object-detection\\n\\10-05_14-10\\weights\\last.pt, 5.4MB\n",
      "Optimizer stripped from results\\object-detection\\n\\10-05_14-10\\weights\\best.pt, 5.4MB\n",
      "\n",
      "Validating results\\object-detection\\n\\10-05_14-10\\weights\\best.pt...\n",
      "Ultralytics 8.3.179  Python-3.10.18 torch-2.8.0+cu129 CUDA:0 (NVIDIA GeForce RTX 3060, 12288MiB)\n",
      "YOLO11n summary (fused): 100 layers, 2,582,542 parameters, 0 gradients, 6.3 GFLOPs\n"
     ]
    },
    {
     "name": "stderr",
     "output_type": "stream",
     "text": [
      "                 Class     Images  Instances      Box(P          R      mAP50  mAP50-95): 100%|██████████| 8/8 [00:02<00:00,  2.91it/s]\n"
     ]
    },
    {
     "name": "stdout",
     "output_type": "stream",
     "text": [
      "                   all        527       1962      0.763      0.664      0.664      0.397\n",
      "                  ball        408        414      0.615      0.338      0.337     0.0813\n",
      "                player        526       1548      0.911      0.989       0.99      0.712\n",
      "Speed: 0.1ms preprocess, 1.1ms inference, 0.0ms loss, 1.3ms postprocess per image\n",
      "Results saved to \u001b[1mresults\\object-detection\\n\\10-05_14-10\u001b[0m\n",
      "\u001b[34m\u001b[1mMLflow: \u001b[0mmlflow run still alive, remember to close it using mlflow.end_run()\n",
      "\u001b[34m\u001b[1mMLflow: \u001b[0mresults logged to https://dagshub.com/abiyamf/courtPlay.mlflow\n",
      "\u001b[34m\u001b[1mMLflow: \u001b[0mdisable with 'yolo settings mlflow=False'\n",
      "🏃 View run 10-05_14-10 at: https://dagshub.com/abiyamf/courtPlay.mlflow/#/experiments/6/runs/c4250b9759d34a9c942b0aefb2dc0991\n",
      "🧪 View experiment at: https://dagshub.com/abiyamf/courtPlay.mlflow/#/experiments/6\n"
     ]
    }
   ],
   "source": [
    "# ==========================\n",
    "# 🚀 Training Routine\n",
    "# ==========================\n",
    "model = YOLO(f\"{yoloVersion}{modelSize}.pt\")\n",
    "mlflow.set_experiment(f\"courtPlay-{modelSize}\")\n",
    "\n",
    "start_time = time.time()\n",
    "\n",
    "# Set augmentations (default vs custom)\n",
    "augmentations = {}\n",
    "if use_custom_aug:\n",
    "    augmentations = {\n",
    "        \"mosaic\": 0.4,\n",
    "        \"scale\": 0.25,\n",
    "        \"translate\": 0.05,\n",
    "        \"hsv_s\": 0.4,\n",
    "        \"hsv_v\": 0.2,\n",
    "        \"mixup\": 0.1,\n",
    "        \"flipud\": 0.0,\n",
    "        \"cutmix\": 0.0,\n",
    "        \"shear\": 0.0,\n",
    "        \"perspective\": 0.0,\n",
    "    }\n",
    "\n",
    "with mlflow.start_run(run_name=f\"{time_now}\"):\n",
    "\n",
    "    # Log global parameters\n",
    "    mlflow.log_params({\n",
    "        \"project type\": projectType,\n",
    "        \"dataset version\": datasetVersion,\n",
    "        \"yolo version\": yoloVersion,\n",
    "        \"model size\": modelSize,\n",
    "        \"gpu\": gpu_name,\n",
    "        \"epochs\": epochs,\n",
    "        \"batch\": batch,\n",
    "        \"imgsz\": imgsz,\n",
    "        \"use_custom_aug\": use_custom_aug,\n",
    "    })\n",
    "\n",
    "    # Train\n",
    "    results = model.train(\n",
    "        data=data_path,\n",
    "        epochs=epochs,\n",
    "        imgsz=imgsz,\n",
    "        batch=batch,\n",
    "        name=f\"{time_now}\",\n",
    "        project=project_path,\n",
    "        exist_ok=True,\n",
    "        **augmentations\n",
    "    )\n",
    "\n",
    "    # Log training time\n",
    "    mlflow.log_params({\n",
    "        \"training time\": format_duration(time.time() - start_time),\n",
    "    })\n",
    "\n",
    "    # Run validation + log class metrics\n",
    "    mlflow.log_artifact(save_class_metrics(results), artifact_path=\"class_metrics\")\n",
    "\n",
    "mlflow.end_run()"
   ]
  },
  {
   "cell_type": "code",
   "execution_count": null,
   "id": "6fc08ae7",
   "metadata": {},
   "outputs": [
    {
     "name": "stdout",
     "output_type": "stream",
     "text": [
      "New https://pypi.org/project/ultralytics/8.3.204 available  Update with 'pip install -U ultralytics'\n",
      "Ultralytics 8.3.179  Python-3.10.18 torch-2.8.0+cu129 CUDA:0 (NVIDIA GeForce RTX 3060, 12288MiB)\n",
      "\u001b[34m\u001b[1mengine\\trainer: \u001b[0magnostic_nms=False, amp=True, augment=False, auto_augment=randaugment, batch=-1, bgr=0.0, box=7.5, cache=False, cfg=None, classes=None, close_mosaic=10, cls=0.5, conf=None, copy_paste=0.0, copy_paste_mode=flip, cos_lr=False, cutmix=0.0, data=datasets/object-detection-tile/data.yaml, degrees=0.0, deterministic=True, device=None, dfl=1.5, dnn=False, dropout=0.0, dynamic=False, embed=None, epochs=25, erasing=0.4, exist_ok=True, fliplr=0.5, flipud=0.0, format=torchscript, fraction=1.0, freeze=None, half=False, hsv_h=0.015, hsv_s=0.4, hsv_v=0.2, imgsz=720, int8=False, iou=0.7, keras=False, kobj=1.0, line_width=None, lr0=0.01, lrf=0.01, mask_ratio=4, max_det=300, mixup=0.1, mode=train, model=yolo12m.pt, momentum=0.937, mosaic=0.4, multi_scale=False, name=10-05_09-45, nbs=64, nms=False, opset=None, optimize=False, optimizer=auto, overlap_mask=True, patience=100, perspective=0.0, plots=True, pose=12.0, pretrained=True, profile=False, project=results/object-detection/m, rect=False, resume=False, retina_masks=False, save=True, save_conf=False, save_crop=False, save_dir=results\\object-detection\\m\\10-05_09-45, save_frames=False, save_json=False, save_period=-1, save_txt=False, scale=0.25, seed=0, shear=0.0, show=False, show_boxes=True, show_conf=True, show_labels=True, simplify=True, single_cls=False, source=None, split=val, stream_buffer=False, task=detect, time=None, tracker=botsort.yaml, translate=0.05, val=True, verbose=True, vid_stride=1, visualize=False, warmup_bias_lr=0.1, warmup_epochs=3.0, warmup_momentum=0.8, weight_decay=0.0005, workers=8, workspace=None\n",
      "Overriding model.yaml nc=80 with nc=2\n",
      "\n",
      "                   from  n    params  module                                       arguments                     \n",
      "  0                  -1  1      1856  ultralytics.nn.modules.conv.Conv             [3, 64, 3, 2]                 \n",
      "  1                  -1  1     73984  ultralytics.nn.modules.conv.Conv             [64, 128, 3, 2]               \n",
      "  2                  -1  1    111872  ultralytics.nn.modules.block.C3k2            [128, 256, 1, True, 0.25]     \n",
      "  3                  -1  1    590336  ultralytics.nn.modules.conv.Conv             [256, 256, 3, 2]              \n",
      "  4                  -1  1    444928  ultralytics.nn.modules.block.C3k2            [256, 512, 1, True, 0.25]     \n",
      "  5                  -1  1   2360320  ultralytics.nn.modules.conv.Conv             [512, 512, 3, 2]              \n",
      "  6                  -1  2   2689536  ultralytics.nn.modules.block.A2C2f           [512, 512, 2, True, 4]        \n",
      "  7                  -1  1   2360320  ultralytics.nn.modules.conv.Conv             [512, 512, 3, 2]              \n",
      "  8                  -1  2   2689536  ultralytics.nn.modules.block.A2C2f           [512, 512, 2, True, 1]        \n",
      "  9                  -1  1         0  torch.nn.modules.upsampling.Upsample         [None, 2, 'nearest']          \n",
      " 10             [-1, 6]  1         0  ultralytics.nn.modules.conv.Concat           [1]                           \n",
      " 11                  -1  1   1248768  ultralytics.nn.modules.block.A2C2f           [1024, 512, 1, False, -1]     \n",
      " 12                  -1  1         0  torch.nn.modules.upsampling.Upsample         [None, 2, 'nearest']          \n",
      " 13             [-1, 4]  1         0  ultralytics.nn.modules.conv.Concat           [1]                           \n",
      " 14                  -1  1    378624  ultralytics.nn.modules.block.A2C2f           [1024, 256, 1, False, -1]     \n",
      " 15                  -1  1    590336  ultralytics.nn.modules.conv.Conv             [256, 256, 3, 2]              \n",
      " 16            [-1, 11]  1         0  ultralytics.nn.modules.conv.Concat           [1]                           \n",
      " 17                  -1  1   1183232  ultralytics.nn.modules.block.A2C2f           [768, 512, 1, False, -1]      \n",
      " 18                  -1  1   2360320  ultralytics.nn.modules.conv.Conv             [512, 512, 3, 2]              \n",
      " 19             [-1, 8]  1         0  ultralytics.nn.modules.conv.Concat           [1]                           \n",
      " 20                  -1  1   1642496  ultralytics.nn.modules.block.C3k2            [1024, 512, 1, True]          \n",
      " 21        [14, 17, 20]  1   1412566  ultralytics.nn.modules.head.Detect           [2, [256, 512, 512]]          \n",
      "YOLOv12m summary: 292 layers, 20,139,030 parameters, 20,139,014 gradients, 67.7 GFLOPs\n",
      "\n",
      "Transferred 745/751 items from pretrained weights\n",
      "Freezing layer 'model.21.dfl.conv.weight'\n",
      "\u001b[34m\u001b[1mAMP: \u001b[0mrunning Automatic Mixed Precision (AMP) checks...\n",
      "\u001b[34m\u001b[1mAMP: \u001b[0mchecks passed \n",
      "WARNING imgsz=[720] must be multiple of max stride 32, updating to [736]\n",
      "\u001b[34m\u001b[1mtrain: \u001b[0mFast image access  (ping: 0.10.0 ms, read: 7.82.9 MB/s, size: 45.5 KB)\n"
     ]
    },
    {
     "name": "stderr",
     "output_type": "stream",
     "text": [
      "\u001b[34m\u001b[1mtrain: \u001b[0mScanning C:\\Users\\User\\Documents\\ABIYA NITIP\\TelU-Tubes-BisnisDigital-CourtPlay-AIDevelopment\\ObjectDetection\\datasets\\object-detection-tile\\train\\labels... 7372 images, 1532 backgrounds, 0 corrupt: 100%|██████████| 7372/7372 [00:10<00:00, 687.20it/s]"
     ]
    },
    {
     "name": "stdout",
     "output_type": "stream",
     "text": [
      "\u001b[34m\u001b[1mtrain: \u001b[0mC:\\Users\\User\\Documents\\ABIYA NITIP\\TelU-Tubes-BisnisDigital-CourtPlay-AIDevelopment\\ObjectDetection\\datasets\\object-detection-tile\\train\\images\\video-1-1-minute-_mp4-0166_jpg.rf.f68a35c0334b1a224963d06c7f453ecf.jpg: 1 duplicate labels removed\n"
     ]
    },
    {
     "name": "stderr",
     "output_type": "stream",
     "text": [
      "\n"
     ]
    },
    {
     "name": "stdout",
     "output_type": "stream",
     "text": [
      "\u001b[34m\u001b[1mtrain: \u001b[0mNew cache created: C:\\Users\\User\\Documents\\ABIYA NITIP\\TelU-Tubes-BisnisDigital-CourtPlay-AIDevelopment\\ObjectDetection\\datasets\\object-detection-tile\\train\\labels.cache\n",
      "\u001b[34m\u001b[1mAutoBatch: \u001b[0mComputing optimal batch size for imgsz=736 at 60.0% CUDA memory utilization.\n",
      "\u001b[34m\u001b[1mAutoBatch: \u001b[0mCUDA:0 (NVIDIA GeForce RTX 3060) 12.00G total, 0.21G reserved, 0.19G allocated, 11.60G free\n",
      "      Params      GFLOPs  GPU_mem (GB)  forward (ms) backward (ms)                   input                  output\n",
      "    20139030       89.59         2.127         51.03          1131        (1, 3, 736, 736)                    list\n",
      "    20139030       179.2         3.316         58.01          1180        (2, 3, 736, 736)                    list\n",
      "    20139030       358.4         5.729         104.2          1207        (4, 3, 736, 736)                    list\n",
      "    20139030       716.7        10.578         200.7          1326        (8, 3, 736, 736)                    list\n",
      "    20139030        1433        20.055          7143          8805       (16, 3, 736, 736)                    list\n",
      "\u001b[34m\u001b[1mAutoBatch: \u001b[0mUsing batch-size 5 for CUDA:0 7.35G/12.00G (61%) \n",
      "\u001b[34m\u001b[1mtrain: \u001b[0mFast image access  (ping: 0.00.0 ms, read: 628.8218.0 MB/s, size: 48.6 KB)\n"
     ]
    },
    {
     "name": "stderr",
     "output_type": "stream",
     "text": [
      "\u001b[34m\u001b[1mtrain: \u001b[0mScanning C:\\Users\\User\\Documents\\ABIYA NITIP\\TelU-Tubes-BisnisDigital-CourtPlay-AIDevelopment\\ObjectDetection\\datasets\\object-detection-tile\\train\\labels.cache... 7372 images, 1532 backgrounds, 0 corrupt: 100%|██████████| 7372/7372 [00:00<?, ?it/s]"
     ]
    },
    {
     "name": "stdout",
     "output_type": "stream",
     "text": [
      "\u001b[34m\u001b[1mtrain: \u001b[0mC:\\Users\\User\\Documents\\ABIYA NITIP\\TelU-Tubes-BisnisDigital-CourtPlay-AIDevelopment\\ObjectDetection\\datasets\\object-detection-tile\\train\\images\\video-1-1-minute-_mp4-0166_jpg.rf.f68a35c0334b1a224963d06c7f453ecf.jpg: 1 duplicate labels removed\n"
     ]
    },
    {
     "name": "stderr",
     "output_type": "stream",
     "text": [
      "\n"
     ]
    },
    {
     "name": "stdout",
     "output_type": "stream",
     "text": [
      "\u001b[34m\u001b[1mval: \u001b[0mFast image access  (ping: 0.10.0 ms, read: 4.30.8 MB/s, size: 38.4 KB)\n"
     ]
    },
    {
     "name": "stderr",
     "output_type": "stream",
     "text": [
      "\u001b[34m\u001b[1mval: \u001b[0mScanning C:\\Users\\User\\Documents\\ABIYA NITIP\\TelU-Tubes-BisnisDigital-CourtPlay-AIDevelopment\\ObjectDetection\\datasets\\object-detection-tile\\valid\\labels... 2108 images, 456 backgrounds, 0 corrupt: 100%|██████████| 2108/2108 [00:03<00:00, 700.56it/s]\n"
     ]
    },
    {
     "name": "stdout",
     "output_type": "stream",
     "text": [
      "\u001b[34m\u001b[1mval: \u001b[0mNew cache created: C:\\Users\\User\\Documents\\ABIYA NITIP\\TelU-Tubes-BisnisDigital-CourtPlay-AIDevelopment\\ObjectDetection\\datasets\\object-detection-tile\\valid\\labels.cache\n",
      "Plotting labels to results\\object-detection\\m\\10-05_09-45\\labels.jpg... \n",
      "\u001b[34m\u001b[1moptimizer:\u001b[0m 'optimizer=auto' found, ignoring 'lr0=0.01' and 'momentum=0.937' and determining best 'optimizer', 'lr0' and 'momentum' automatically... \n",
      "\u001b[34m\u001b[1moptimizer:\u001b[0m AdamW(lr=0.001667, momentum=0.9) with parameter groups 123 weight(decay=0.0), 130 weight(decay=0.0005078125), 129 bias(decay=0.0)\n",
      "\u001b[34m\u001b[1mMLflow: \u001b[0mlogging run_id(7fc96537f4194a5d82bc0eae8538072f) to https://dagshub.com/abiyamf/courtPlay.mlflow\n",
      "\u001b[34m\u001b[1mMLflow: \u001b[0mdisable with 'yolo settings mlflow=False'\n",
      "WARNING \u001b[34m\u001b[1mMLflow: \u001b[0mFailed to initialize: INVALID_PARAMETER_VALUE: Response: {'error_code': 'INVALID_PARAMETER_VALUE'}\n",
      "WARNING \u001b[34m\u001b[1mMLflow: \u001b[0mNot tracking this run\n",
      "Image sizes 736 train, 736 val\n",
      "Using 8 dataloader workers\n",
      "Logging results to \u001b[1mresults\\object-detection\\m\\10-05_09-45\u001b[0m\n",
      "Starting training for 25 epochs...\n",
      "\n",
      "      Epoch    GPU_mem   box_loss   cls_loss   dfl_loss  Instances       Size\n"
     ]
    },
    {
     "name": "stderr",
     "output_type": "stream",
     "text": [
      "       1/25      5.55G      1.453       1.39      1.398          2        736: 100%|██████████| 1475/1475 [07:16<00:00,  3.38it/s]\n",
      "                 Class     Images  Instances      Box(P          R      mAP50  mAP50-95): 100%|██████████| 211/211 [00:24<00:00,  8.52it/s]"
     ]
    },
    {
     "name": "stdout",
     "output_type": "stream",
     "text": [
      "                   all       2108       2384      0.637      0.505      0.566      0.294\n"
     ]
    },
    {
     "name": "stderr",
     "output_type": "stream",
     "text": [
      "\n"
     ]
    },
    {
     "name": "stdout",
     "output_type": "stream",
     "text": [
      "\n",
      "      Epoch    GPU_mem   box_loss   cls_loss   dfl_loss  Instances       Size\n"
     ]
    },
    {
     "name": "stderr",
     "output_type": "stream",
     "text": [
      "       2/25      5.57G      1.463      1.102      1.405          3        736: 100%|██████████| 1475/1475 [07:01<00:00,  3.50it/s]\n",
      "                 Class     Images  Instances      Box(P          R      mAP50  mAP50-95): 100%|██████████| 211/211 [00:23<00:00,  8.90it/s]"
     ]
    },
    {
     "name": "stdout",
     "output_type": "stream",
     "text": [
      "                   all       2108       2384      0.743      0.635      0.666      0.345\n"
     ]
    },
    {
     "name": "stderr",
     "output_type": "stream",
     "text": [
      "\n"
     ]
    },
    {
     "name": "stdout",
     "output_type": "stream",
     "text": [
      "\n",
      "      Epoch    GPU_mem   box_loss   cls_loss   dfl_loss  Instances       Size\n"
     ]
    },
    {
     "name": "stderr",
     "output_type": "stream",
     "text": [
      "       3/25      5.64G      1.391     0.9813      1.343          1        736: 100%|██████████| 1475/1475 [06:58<00:00,  3.52it/s]\n",
      "                 Class     Images  Instances      Box(P          R      mAP50  mAP50-95): 100%|██████████| 211/211 [00:23<00:00,  8.92it/s]"
     ]
    },
    {
     "name": "stdout",
     "output_type": "stream",
     "text": [
      "                   all       2108       2384      0.788      0.672      0.718      0.387\n"
     ]
    },
    {
     "name": "stderr",
     "output_type": "stream",
     "text": [
      "\n"
     ]
    },
    {
     "name": "stdout",
     "output_type": "stream",
     "text": [
      "\n",
      "      Epoch    GPU_mem   box_loss   cls_loss   dfl_loss  Instances       Size\n"
     ]
    },
    {
     "name": "stderr",
     "output_type": "stream",
     "text": [
      "       4/25      5.71G      1.314     0.8804      1.295          1        736: 100%|██████████| 1475/1475 [06:59<00:00,  3.52it/s]\n",
      "                 Class     Images  Instances      Box(P          R      mAP50  mAP50-95): 100%|██████████| 211/211 [00:23<00:00,  8.91it/s]"
     ]
    },
    {
     "name": "stdout",
     "output_type": "stream",
     "text": [
      "                   all       2108       2384      0.787      0.688       0.74      0.397\n"
     ]
    },
    {
     "name": "stderr",
     "output_type": "stream",
     "text": [
      "\n"
     ]
    },
    {
     "name": "stdout",
     "output_type": "stream",
     "text": [
      "\n",
      "      Epoch    GPU_mem   box_loss   cls_loss   dfl_loss  Instances       Size\n"
     ]
    },
    {
     "name": "stderr",
     "output_type": "stream",
     "text": [
      "       5/25      5.77G       1.28     0.8464      1.278          1        736: 100%|██████████| 1475/1475 [06:58<00:00,  3.52it/s]\n",
      "                 Class     Images  Instances      Box(P          R      mAP50  mAP50-95): 100%|██████████| 211/211 [00:23<00:00,  8.91it/s]"
     ]
    },
    {
     "name": "stdout",
     "output_type": "stream",
     "text": [
      "                   all       2108       2384      0.845      0.716      0.746      0.404\n"
     ]
    },
    {
     "name": "stderr",
     "output_type": "stream",
     "text": [
      "\n"
     ]
    },
    {
     "name": "stdout",
     "output_type": "stream",
     "text": [
      "\n",
      "      Epoch    GPU_mem   box_loss   cls_loss   dfl_loss  Instances       Size\n"
     ]
    },
    {
     "name": "stderr",
     "output_type": "stream",
     "text": [
      "       6/25      5.83G      1.252     0.8046      1.258          0        736: 100%|██████████| 1475/1475 [07:31<00:00,  3.27it/s]\n",
      "                 Class     Images  Instances      Box(P          R      mAP50  mAP50-95): 100%|██████████| 211/211 [00:23<00:00,  8.93it/s]"
     ]
    },
    {
     "name": "stdout",
     "output_type": "stream",
     "text": [
      "                   all       2108       2384      0.821      0.732      0.765       0.42\n"
     ]
    },
    {
     "name": "stderr",
     "output_type": "stream",
     "text": [
      "\n"
     ]
    },
    {
     "name": "stdout",
     "output_type": "stream",
     "text": [
      "\n",
      "      Epoch    GPU_mem   box_loss   cls_loss   dfl_loss  Instances       Size\n"
     ]
    },
    {
     "name": "stderr",
     "output_type": "stream",
     "text": [
      "       7/25      5.91G      1.209     0.7587      1.227          1        736: 100%|██████████| 1475/1475 [06:56<00:00,  3.54it/s]\n",
      "                 Class     Images  Instances      Box(P          R      mAP50  mAP50-95): 100%|██████████| 211/211 [00:23<00:00,  8.98it/s]"
     ]
    },
    {
     "name": "stdout",
     "output_type": "stream",
     "text": [
      "                   all       2108       2384      0.824      0.765      0.785      0.427\n"
     ]
    },
    {
     "name": "stderr",
     "output_type": "stream",
     "text": [
      "\n"
     ]
    },
    {
     "name": "stdout",
     "output_type": "stream",
     "text": [
      "\n",
      "      Epoch    GPU_mem   box_loss   cls_loss   dfl_loss  Instances       Size\n"
     ]
    },
    {
     "name": "stderr",
     "output_type": "stream",
     "text": [
      "       8/25      5.97G      1.199     0.7184      1.223          1        736: 100%|██████████| 1475/1475 [07:20<00:00,  3.35it/s]\n",
      "                 Class     Images  Instances      Box(P          R      mAP50  mAP50-95): 100%|██████████| 211/211 [00:26<00:00,  8.00it/s]"
     ]
    },
    {
     "name": "stdout",
     "output_type": "stream",
     "text": [
      "                   all       2108       2384      0.875      0.743      0.793      0.438\n"
     ]
    },
    {
     "name": "stderr",
     "output_type": "stream",
     "text": [
      "\n"
     ]
    },
    {
     "name": "stdout",
     "output_type": "stream",
     "text": [
      "\n",
      "      Epoch    GPU_mem   box_loss   cls_loss   dfl_loss  Instances       Size\n"
     ]
    },
    {
     "name": "stderr",
     "output_type": "stream",
     "text": [
      "       9/25      6.04G      1.181     0.7049      1.214          5        736: 100%|██████████| 1475/1475 [07:46<00:00,  3.16it/s]\n",
      "                 Class     Images  Instances      Box(P          R      mAP50  mAP50-95): 100%|██████████| 211/211 [00:25<00:00,  8.12it/s]"
     ]
    },
    {
     "name": "stdout",
     "output_type": "stream",
     "text": [
      "                   all       2108       2384      0.868      0.745      0.788      0.441\n"
     ]
    },
    {
     "name": "stderr",
     "output_type": "stream",
     "text": [
      "\n"
     ]
    },
    {
     "name": "stdout",
     "output_type": "stream",
     "text": [
      "\n",
      "      Epoch    GPU_mem   box_loss   cls_loss   dfl_loss  Instances       Size\n"
     ]
    },
    {
     "name": "stderr",
     "output_type": "stream",
     "text": [
      "      10/25      5.68G      1.158     0.6828      1.204          7        736: 100%|██████████| 1475/1475 [07:51<00:00,  3.13it/s]\n",
      "                 Class     Images  Instances      Box(P          R      mAP50  mAP50-95): 100%|██████████| 211/211 [00:25<00:00,  8.20it/s]"
     ]
    },
    {
     "name": "stdout",
     "output_type": "stream",
     "text": [
      "                   all       2108       2384      0.862      0.781      0.816      0.453\n"
     ]
    },
    {
     "name": "stderr",
     "output_type": "stream",
     "text": [
      "\n"
     ]
    },
    {
     "name": "stdout",
     "output_type": "stream",
     "text": [
      "\n",
      "      Epoch    GPU_mem   box_loss   cls_loss   dfl_loss  Instances       Size\n"
     ]
    },
    {
     "name": "stderr",
     "output_type": "stream",
     "text": [
      "      11/25      5.68G      1.129     0.6552      1.185          5        736: 100%|██████████| 1475/1475 [07:53<00:00,  3.11it/s]\n",
      "                 Class     Images  Instances      Box(P          R      mAP50  mAP50-95): 100%|██████████| 211/211 [00:26<00:00,  7.98it/s]"
     ]
    },
    {
     "name": "stdout",
     "output_type": "stream",
     "text": [
      "                   all       2108       2384      0.905      0.785      0.825       0.45\n"
     ]
    },
    {
     "name": "stderr",
     "output_type": "stream",
     "text": [
      "\n"
     ]
    },
    {
     "name": "stdout",
     "output_type": "stream",
     "text": [
      "\n",
      "      Epoch    GPU_mem   box_loss   cls_loss   dfl_loss  Instances       Size\n"
     ]
    },
    {
     "name": "stderr",
     "output_type": "stream",
     "text": [
      "      12/25      5.71G      1.121     0.6378      1.169          1        736: 100%|██████████| 1475/1475 [07:57<00:00,  3.09it/s]\n",
      "                 Class     Images  Instances      Box(P          R      mAP50  mAP50-95): 100%|██████████| 211/211 [00:27<00:00,  7.68it/s]"
     ]
    },
    {
     "name": "stdout",
     "output_type": "stream",
     "text": [
      "                   all       2108       2384      0.872      0.776      0.823      0.453\n"
     ]
    },
    {
     "name": "stderr",
     "output_type": "stream",
     "text": [
      "\n"
     ]
    },
    {
     "name": "stdout",
     "output_type": "stream",
     "text": [
      "\n",
      "      Epoch    GPU_mem   box_loss   cls_loss   dfl_loss  Instances       Size\n"
     ]
    },
    {
     "name": "stderr",
     "output_type": "stream",
     "text": [
      "      13/25      5.78G      1.104      0.616      1.157          3        736: 100%|██████████| 1475/1475 [07:13<00:00,  3.40it/s]\n",
      "                 Class     Images  Instances      Box(P          R      mAP50  mAP50-95): 100%|██████████| 211/211 [00:23<00:00,  8.89it/s]"
     ]
    },
    {
     "name": "stdout",
     "output_type": "stream",
     "text": [
      "                   all       2108       2384       0.89      0.767      0.814      0.457\n"
     ]
    },
    {
     "name": "stderr",
     "output_type": "stream",
     "text": [
      "\n"
     ]
    },
    {
     "name": "stdout",
     "output_type": "stream",
     "text": [
      "\n",
      "      Epoch    GPU_mem   box_loss   cls_loss   dfl_loss  Instances       Size\n"
     ]
    },
    {
     "name": "stderr",
     "output_type": "stream",
     "text": [
      "      14/25      5.85G      1.087     0.6001      1.154          1        736: 100%|██████████| 1475/1475 [06:57<00:00,  3.54it/s]\n",
      "                 Class     Images  Instances      Box(P          R      mAP50  mAP50-95): 100%|██████████| 211/211 [00:23<00:00,  8.91it/s]"
     ]
    },
    {
     "name": "stdout",
     "output_type": "stream",
     "text": [
      "                   all       2108       2384       0.89      0.801      0.839      0.471\n"
     ]
    },
    {
     "name": "stderr",
     "output_type": "stream",
     "text": [
      "\n"
     ]
    },
    {
     "name": "stdout",
     "output_type": "stream",
     "text": [
      "\n",
      "      Epoch    GPU_mem   box_loss   cls_loss   dfl_loss  Instances       Size\n"
     ]
    },
    {
     "name": "stderr",
     "output_type": "stream",
     "text": [
      "      15/25      5.92G       1.09     0.5922      1.146          8        736: 100%|██████████| 1475/1475 [06:57<00:00,  3.53it/s]\n",
      "                 Class     Images  Instances      Box(P          R      mAP50  mAP50-95): 100%|██████████| 211/211 [00:23<00:00,  8.86it/s]"
     ]
    },
    {
     "name": "stdout",
     "output_type": "stream",
     "text": [
      "                   all       2108       2384      0.858      0.797      0.804       0.46\n"
     ]
    },
    {
     "name": "stderr",
     "output_type": "stream",
     "text": [
      "\n"
     ]
    },
    {
     "name": "stdout",
     "output_type": "stream",
     "text": [
      "Closing dataloader mosaic\n",
      "\n",
      "      Epoch    GPU_mem   box_loss   cls_loss   dfl_loss  Instances       Size\n"
     ]
    },
    {
     "name": "stderr",
     "output_type": "stream",
     "text": [
      "      16/25      5.98G      1.032      0.524      1.109          0        736: 100%|██████████| 1475/1475 [06:57<00:00,  3.54it/s]\n",
      "                 Class     Images  Instances      Box(P          R      mAP50  mAP50-95): 100%|██████████| 211/211 [00:23<00:00,  8.89it/s]"
     ]
    },
    {
     "name": "stdout",
     "output_type": "stream",
     "text": [
      "                   all       2108       2384      0.877      0.813      0.832      0.473\n"
     ]
    },
    {
     "name": "stderr",
     "output_type": "stream",
     "text": [
      "\n"
     ]
    },
    {
     "name": "stdout",
     "output_type": "stream",
     "text": [
      "\n",
      "      Epoch    GPU_mem   box_loss   cls_loss   dfl_loss  Instances       Size\n"
     ]
    },
    {
     "name": "stderr",
     "output_type": "stream",
     "text": [
      "      17/25      5.65G      1.019     0.5132      1.108          5        736: 100%|██████████| 1475/1475 [06:57<00:00,  3.54it/s]\n",
      "                 Class     Images  Instances      Box(P          R      mAP50  mAP50-95): 100%|██████████| 211/211 [00:23<00:00,  8.89it/s]"
     ]
    },
    {
     "name": "stdout",
     "output_type": "stream",
     "text": [
      "                   all       2108       2384      0.885      0.809      0.837      0.479\n"
     ]
    },
    {
     "name": "stderr",
     "output_type": "stream",
     "text": [
      "\n"
     ]
    },
    {
     "name": "stdout",
     "output_type": "stream",
     "text": [
      "\n",
      "      Epoch    GPU_mem   box_loss   cls_loss   dfl_loss  Instances       Size\n"
     ]
    },
    {
     "name": "stderr",
     "output_type": "stream",
     "text": [
      "      18/25      5.65G     0.9981     0.5032      1.087          2        736: 100%|██████████| 1475/1475 [06:57<00:00,  3.54it/s]\n",
      "                 Class     Images  Instances      Box(P          R      mAP50  mAP50-95): 100%|██████████| 211/211 [00:23<00:00,  8.87it/s]"
     ]
    },
    {
     "name": "stdout",
     "output_type": "stream",
     "text": [
      "                   all       2108       2384      0.902      0.807      0.841      0.483\n"
     ]
    },
    {
     "name": "stderr",
     "output_type": "stream",
     "text": [
      "\n"
     ]
    },
    {
     "name": "stdout",
     "output_type": "stream",
     "text": [
      "\n",
      "      Epoch    GPU_mem   box_loss   cls_loss   dfl_loss  Instances       Size\n"
     ]
    },
    {
     "name": "stderr",
     "output_type": "stream",
     "text": [
      "      19/25      5.65G     0.9911        0.5      1.086          2        736: 100%|██████████| 1475/1475 [06:57<00:00,  3.54it/s]\n",
      "                 Class     Images  Instances      Box(P          R      mAP50  mAP50-95): 100%|██████████| 211/211 [00:23<00:00,  8.87it/s]"
     ]
    },
    {
     "name": "stdout",
     "output_type": "stream",
     "text": [
      "                   all       2108       2384      0.868      0.819      0.836      0.475\n"
     ]
    },
    {
     "name": "stderr",
     "output_type": "stream",
     "text": [
      "\n"
     ]
    },
    {
     "name": "stdout",
     "output_type": "stream",
     "text": [
      "\n",
      "      Epoch    GPU_mem   box_loss   cls_loss   dfl_loss  Instances       Size\n"
     ]
    },
    {
     "name": "stderr",
     "output_type": "stream",
     "text": [
      "      20/25      5.67G     0.9877     0.4833      1.081          2        736: 100%|██████████| 1475/1475 [06:57<00:00,  3.54it/s]\n",
      "                 Class     Images  Instances      Box(P          R      mAP50  mAP50-95): 100%|██████████| 211/211 [00:23<00:00,  8.84it/s]"
     ]
    },
    {
     "name": "stdout",
     "output_type": "stream",
     "text": [
      "                   all       2108       2384      0.871      0.798       0.82       0.47\n"
     ]
    },
    {
     "name": "stderr",
     "output_type": "stream",
     "text": [
      "\n"
     ]
    },
    {
     "name": "stdout",
     "output_type": "stream",
     "text": [
      "\n",
      "      Epoch    GPU_mem   box_loss   cls_loss   dfl_loss  Instances       Size\n"
     ]
    },
    {
     "name": "stderr",
     "output_type": "stream",
     "text": [
      "      21/25      5.74G     0.9547     0.4654      1.066          3        736: 100%|██████████| 1475/1475 [06:57<00:00,  3.54it/s]\n",
      "                 Class     Images  Instances      Box(P          R      mAP50  mAP50-95): 100%|██████████| 211/211 [00:23<00:00,  8.90it/s]"
     ]
    },
    {
     "name": "stdout",
     "output_type": "stream",
     "text": [
      "                   all       2108       2384      0.896      0.821      0.836      0.486\n"
     ]
    },
    {
     "name": "stderr",
     "output_type": "stream",
     "text": [
      "\n"
     ]
    },
    {
     "name": "stdout",
     "output_type": "stream",
     "text": [
      "\n",
      "      Epoch    GPU_mem   box_loss   cls_loss   dfl_loss  Instances       Size\n"
     ]
    },
    {
     "name": "stderr",
     "output_type": "stream",
     "text": [
      "      22/25       5.8G     0.9478       0.45      1.066          2        736: 100%|██████████| 1475/1475 [06:57<00:00,  3.54it/s]\n",
      "                 Class     Images  Instances      Box(P          R      mAP50  mAP50-95): 100%|██████████| 211/211 [00:23<00:00,  8.86it/s]"
     ]
    },
    {
     "name": "stdout",
     "output_type": "stream",
     "text": [
      "                   all       2108       2384       0.88      0.826      0.847      0.491\n"
     ]
    },
    {
     "name": "stderr",
     "output_type": "stream",
     "text": [
      "\n"
     ]
    },
    {
     "name": "stdout",
     "output_type": "stream",
     "text": [
      "\n",
      "      Epoch    GPU_mem   box_loss   cls_loss   dfl_loss  Instances       Size\n"
     ]
    },
    {
     "name": "stderr",
     "output_type": "stream",
     "text": [
      "      23/25      5.87G     0.9396     0.4475      1.058          1        736: 100%|██████████| 1475/1475 [06:54<00:00,  3.56it/s]\n",
      "                 Class     Images  Instances      Box(P          R      mAP50  mAP50-95): 100%|██████████| 211/211 [00:23<00:00,  8.86it/s]"
     ]
    },
    {
     "name": "stdout",
     "output_type": "stream",
     "text": [
      "                   all       2108       2384      0.915      0.838      0.866      0.494\n"
     ]
    },
    {
     "name": "stderr",
     "output_type": "stream",
     "text": [
      "\n"
     ]
    },
    {
     "name": "stdout",
     "output_type": "stream",
     "text": [
      "\n",
      "      Epoch    GPU_mem   box_loss   cls_loss   dfl_loss  Instances       Size\n"
     ]
    },
    {
     "name": "stderr",
     "output_type": "stream",
     "text": [
      "      24/25      5.94G     0.9316     0.4357      1.056          3        736: 100%|██████████| 1475/1475 [06:57<00:00,  3.53it/s]\n",
      "                 Class     Images  Instances      Box(P          R      mAP50  mAP50-95): 100%|██████████| 211/211 [00:23<00:00,  8.88it/s]"
     ]
    },
    {
     "name": "stdout",
     "output_type": "stream",
     "text": [
      "                   all       2108       2384      0.896      0.835      0.853      0.495\n"
     ]
    },
    {
     "name": "stderr",
     "output_type": "stream",
     "text": [
      "\n"
     ]
    },
    {
     "name": "stdout",
     "output_type": "stream",
     "text": [
      "\n",
      "      Epoch    GPU_mem   box_loss   cls_loss   dfl_loss  Instances       Size\n"
     ]
    },
    {
     "name": "stderr",
     "output_type": "stream",
     "text": [
      "      25/25      6.01G     0.9089     0.4253      1.044          1        736: 100%|██████████| 1475/1475 [07:09<00:00,  3.44it/s]\n",
      "                 Class     Images  Instances      Box(P          R      mAP50  mAP50-95): 100%|██████████| 211/211 [00:26<00:00,  7.93it/s]"
     ]
    },
    {
     "name": "stdout",
     "output_type": "stream",
     "text": [
      "                   all       2108       2384      0.905      0.835      0.857      0.499\n"
     ]
    },
    {
     "name": "stderr",
     "output_type": "stream",
     "text": [
      "\n"
     ]
    },
    {
     "name": "stdout",
     "output_type": "stream",
     "text": [
      "\n",
      "25 epochs completed in 3.315 hours.\n",
      "Optimizer stripped from results\\object-detection\\m\\10-05_09-45\\weights\\last.pt, 40.7MB\n",
      "Optimizer stripped from results\\object-detection\\m\\10-05_09-45\\weights\\best.pt, 40.7MB\n",
      "\n",
      "Validating results\\object-detection\\m\\10-05_09-45\\weights\\best.pt...\n",
      "Ultralytics 8.3.179  Python-3.10.18 torch-2.8.0+cu129 CUDA:0 (NVIDIA GeForce RTX 3060, 12288MiB)\n",
      "YOLOv12m summary (fused): 169 layers, 20,106,454 parameters, 0 gradients, 67.1 GFLOPs\n"
     ]
    },
    {
     "name": "stderr",
     "output_type": "stream",
     "text": [
      "                 Class     Images  Instances      Box(P          R      mAP50  mAP50-95): 100%|██████████| 211/211 [00:24<00:00,  8.45it/s]\n"
     ]
    },
    {
     "name": "stdout",
     "output_type": "stream",
     "text": [
      "                   all       2108       2384      0.905      0.835      0.857      0.498\n",
      "                  ball        432        437      0.839      0.741      0.757      0.279\n",
      "                player       1602       1947      0.971      0.929      0.958      0.718\n",
      "Speed: 0.2ms preprocess, 8.8ms inference, 0.0ms loss, 0.9ms postprocess per image\n",
      "Results saved to \u001b[1mresults\\object-detection\\m\\10-05_09-45\u001b[0m\n",
      "\u001b[34m\u001b[1mMLflow: \u001b[0mmlflow run still alive, remember to close it using mlflow.end_run()\n",
      "\u001b[34m\u001b[1mMLflow: \u001b[0mresults logged to https://dagshub.com/abiyamf/courtPlay.mlflow\n",
      "\u001b[34m\u001b[1mMLflow: \u001b[0mdisable with 'yolo settings mlflow=False'\n",
      "🏃 View run 10-05_09-45 at: https://dagshub.com/abiyamf/courtPlay.mlflow/#/experiments/2/runs/7fc96537f4194a5d82bc0eae8538072f\n",
      "🧪 View experiment at: https://dagshub.com/abiyamf/courtPlay.mlflow/#/experiments/2\n"
     ]
    }
   ],
   "source": [
    "model = YOLO(f\"{yoloVersion}{modelSize}.pt\")\n",
    "\n",
    "mlflow.set_experiment(f\"courtPlay-{modelSize}\")\n",
    "\n",
    "start_time = time.time()\n",
    "\n",
    "with mlflow.start_run(run_name=f\"{time_now}\"):\n",
    "    mlflow.log_params({\n",
    "        \"project type\": projectType,\n",
    "        \"dataset version\": datasetVersion,\n",
    "        \"yolo version\": yoloVersion,\n",
    "        \"model size\": modelSize,\n",
    "        \"gpu\": gpu_name,\n",
    "        \"epochs\": epochs,\n",
    "        \"batch\": batch,\n",
    "        \"imgsz\": imgsz,\n",
    "    })\n",
    "\n",
    "    results = model.train(\n",
    "        data=data_path,\n",
    "        epochs=epochs,\n",
    "        imgsz=imgsz,\n",
    "        batch=batch,\n",
    "        name=f\"{time_now}\",\n",
    "        project=project_path,\n",
    "        exist_ok=True,\n",
    "        mosaic=0.4,\n",
    "        scale=0.25,\n",
    "        translate=0.05,\n",
    "        hsv_s=0.4,\n",
    "        hsv_v=0.2,\n",
    "        mixup=0.1,\n",
    "        flipud=0.0,\n",
    "        cutmix=0.0,\n",
    "        shear=0.0,\n",
    "        perspective=0.0\n",
    "    )\n",
    "\n",
    "    mlflow.log_params({\n",
    "        \"training time\": format_duration(time.time() - start_time),\n",
    "    })\n",
    "\n",
    "    mlflow.log_artifact(save_class_metrics(results), artifact_path=\"class_metrics\")\n",
    "    \n",
    "mlflow.end_run()"
   ]
  }
 ],
 "metadata": {
  "kernelspec": {
   "display_name": "abiya_env",
   "language": "python",
   "name": "python3"
  },
  "language_info": {
   "codemirror_mode": {
    "name": "ipython",
    "version": 3
   },
   "file_extension": ".py",
   "mimetype": "text/x-python",
   "name": "python",
   "nbconvert_exporter": "python",
   "pygments_lexer": "ipython3",
   "version": "3.10.18"
  }
 },
 "nbformat": 4,
 "nbformat_minor": 5
}
